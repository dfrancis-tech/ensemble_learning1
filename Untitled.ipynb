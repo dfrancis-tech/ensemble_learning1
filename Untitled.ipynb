{
 "cells": [
  {
   "cell_type": "markdown",
   "id": "83649c15-f3db-4d93-b7db-bb3c9808b411",
   "metadata": {},
   "source": [
    "# Boosting\n",
    "* Versatile: Suitable for both classification and regression, making it flexible for various problem types.\n",
    "* Minimal Data Preprocessing: Works well with different data types and handles missing values, requiring minimal data handling before use.\n",
    "* Feature Importance: Provides insight into feature importance, allowing a better understanding of each feature’s impact on the model.\n",
    "* Fast Predictions: While training is sequential, predictions are made in parallel, which makes boosting efficient at prediction time.\n",
    "* Black Box Model: Boosting lacks transparency; it’s challenging to understand how predictions are made due to the complexity of many underlying models.\n",
    "* Training Time: Sequential training process is slow and can be computationally demanding.\n",
    "* Overfitting Risk: Has a tendency to overfit, especially with noisy data, due to its iterative learning process that tries to correct errors.\n",
    "- Boosting is powerful and should be considered for many machine learning tasks, but it's essential to watch for long training times and overfitting risks.\n",
    "- **Types of Boosting**\n",
    "  \n",
    "- Bias Reduction:\n",
    "Adaptive Boosting: Reduces bias by oversampling misclassified examples from previous weak models.\n",
    "Gradient Boosting: Reduces bias by training on actual errors (residuals) instead of oversampling misclassified examples.\n",
    "- Base Models:\n",
    "Adaptive Boosting: Can accept various algorithms as base models but typically uses decision trees.\n",
    "Gradient Boosting: Always uses decision trees as its base model.\n",
    "- Optimization Method:\n",
    "Adaptive Boosting: Optimizes the strong learner using weighted voting based on the performance of each weak model.\n",
    "Gradient Boosting: Utilizes gradient descent optimization for its learning process.\n",
    "- Loss Functions:\n",
    "Adaptive Boosting: Employs an exponential loss function.\n",
    "Gradient Boosting: More flexible with loss functions, accepting both exponential and deviance.\n",
    "- XGBoost:\n",
    "Stands for Extreme Gradient Boosting, an optimized implementation of gradient boosting focused on speed.\n",
    "Shares many details with gradient boosting but is designed for improved performance."
   ]
  },
  {
   "cell_type": "code",
   "execution_count": 12,
   "id": "8a9532c9-1db6-4345-a727-3999c76c9599",
   "metadata": {},
   "outputs": [],
   "source": [
    "# Import relevant libraries\n",
    "import joblib\n",
    "import pandas as pd\n",
    "from sklearn.ensemble import GradientBoostingClassifier, AdaBoostClassifier\n",
    "from sklearn.model_selection import GridSearchCV"
   ]
  },
  {
   "cell_type": "code",
   "execution_count": 8,
   "id": "38232215-e8a7-4345-952b-7edc9668ebb4",
   "metadata": {},
   "outputs": [
    {
     "data": {
      "text/plain": [
       "{'ccp_alpha': 0.0,\n",
       " 'criterion': 'friedman_mse',\n",
       " 'init': None,\n",
       " 'learning_rate': 0.1,\n",
       " 'loss': 'log_loss',\n",
       " 'max_depth': 3,\n",
       " 'max_features': None,\n",
       " 'max_leaf_nodes': None,\n",
       " 'min_impurity_decrease': 0.0,\n",
       " 'min_samples_leaf': 1,\n",
       " 'min_samples_split': 2,\n",
       " 'min_weight_fraction_leaf': 0.0,\n",
       " 'n_estimators': 100,\n",
       " 'n_iter_no_change': None,\n",
       " 'random_state': None,\n",
       " 'subsample': 1.0,\n",
       " 'tol': 0.0001,\n",
       " 'validation_fraction': 0.1,\n",
       " 'verbose': 0,\n",
       " 'warm_start': False}"
      ]
     },
     "execution_count": 8,
     "metadata": {},
     "output_type": "execute_result"
    }
   ],
   "source": [
    "# Check the hyper parameters for Gradient Boosting Classifier\n",
    "GradientBoostingClassifier().get_params()"
   ]
  },
  {
   "cell_type": "code",
   "execution_count": 10,
   "id": "b0c5e358-92f3-489d-b669-5f1a65322070",
   "metadata": {},
   "outputs": [
    {
     "data": {
      "text/plain": [
       "{'algorithm': 'SAMME.R',\n",
       " 'estimator': None,\n",
       " 'learning_rate': 1.0,\n",
       " 'n_estimators': 50,\n",
       " 'random_state': None}"
      ]
     },
     "execution_count": 10,
     "metadata": {},
     "output_type": "execute_result"
    }
   ],
   "source": [
    "# Check the hyper parameters for AdaBoost Classifier\n",
    "AdaBoostClassifier().get_params()"
   ]
  },
  {
   "cell_type": "code",
   "execution_count": 18,
   "id": "58c68e8c-24b5-4cb1-b814-d608c90fcb95",
   "metadata": {},
   "outputs": [],
   "source": [
    "# Load the data\n",
    "X_train = pd.read_csv('./data/train_features.csv')\n",
    "y_train = pd.read_csv('./data/train_labels.csv')"
   ]
  },
  {
   "cell_type": "code",
   "execution_count": 16,
   "id": "000b3fa9-56a5-4076-b6d3-24dcf2650e41",
   "metadata": {},
   "outputs": [
    {
     "data": {
      "text/html": [
       "<div>\n",
       "<style scoped>\n",
       "    .dataframe tbody tr th:only-of-type {\n",
       "        vertical-align: middle;\n",
       "    }\n",
       "\n",
       "    .dataframe tbody tr th {\n",
       "        vertical-align: top;\n",
       "    }\n",
       "\n",
       "    .dataframe thead th {\n",
       "        text-align: right;\n",
       "    }\n",
       "</style>\n",
       "<table border=\"1\" class=\"dataframe\">\n",
       "  <thead>\n",
       "    <tr style=\"text-align: right;\">\n",
       "      <th></th>\n",
       "      <th>Unnamed: 0</th>\n",
       "      <th>Pclass</th>\n",
       "      <th>Sex</th>\n",
       "      <th>Age</th>\n",
       "      <th>Fare</th>\n",
       "      <th>Family_cnt</th>\n",
       "      <th>Cabin_ind</th>\n",
       "    </tr>\n",
       "  </thead>\n",
       "  <tbody>\n",
       "    <tr>\n",
       "      <th>0</th>\n",
       "      <td>570</td>\n",
       "      <td>2</td>\n",
       "      <td>0</td>\n",
       "      <td>62.0</td>\n",
       "      <td>10.5000</td>\n",
       "      <td>0</td>\n",
       "      <td>0</td>\n",
       "    </tr>\n",
       "    <tr>\n",
       "      <th>1</th>\n",
       "      <td>787</td>\n",
       "      <td>3</td>\n",
       "      <td>0</td>\n",
       "      <td>8.0</td>\n",
       "      <td>29.1250</td>\n",
       "      <td>5</td>\n",
       "      <td>0</td>\n",
       "    </tr>\n",
       "    <tr>\n",
       "      <th>2</th>\n",
       "      <td>74</td>\n",
       "      <td>3</td>\n",
       "      <td>0</td>\n",
       "      <td>32.0</td>\n",
       "      <td>56.4958</td>\n",
       "      <td>0</td>\n",
       "      <td>0</td>\n",
       "    </tr>\n",
       "    <tr>\n",
       "      <th>3</th>\n",
       "      <td>113</td>\n",
       "      <td>3</td>\n",
       "      <td>1</td>\n",
       "      <td>20.0</td>\n",
       "      <td>9.8250</td>\n",
       "      <td>1</td>\n",
       "      <td>0</td>\n",
       "    </tr>\n",
       "    <tr>\n",
       "      <th>4</th>\n",
       "      <td>635</td>\n",
       "      <td>2</td>\n",
       "      <td>1</td>\n",
       "      <td>28.0</td>\n",
       "      <td>13.0000</td>\n",
       "      <td>0</td>\n",
       "      <td>0</td>\n",
       "    </tr>\n",
       "  </tbody>\n",
       "</table>\n",
       "</div>"
      ],
      "text/plain": [
       "   Unnamed: 0  Pclass  Sex   Age     Fare  Family_cnt  Cabin_ind\n",
       "0         570       2    0  62.0  10.5000           0          0\n",
       "1         787       3    0   8.0  29.1250           5          0\n",
       "2          74       3    0  32.0  56.4958           0          0\n",
       "3         113       3    1  20.0   9.8250           1          0\n",
       "4         635       2    1  28.0  13.0000           0          0"
      ]
     },
     "execution_count": 16,
     "metadata": {},
     "output_type": "execute_result"
    }
   ],
   "source": [
    "X_train.head()"
   ]
  },
  {
   "cell_type": "code",
   "execution_count": 20,
   "id": "0289318e-c56a-4697-a3d3-d0fe6e78fdc5",
   "metadata": {},
   "outputs": [
    {
     "data": {
      "text/html": [
       "<div>\n",
       "<style scoped>\n",
       "    .dataframe tbody tr th:only-of-type {\n",
       "        vertical-align: middle;\n",
       "    }\n",
       "\n",
       "    .dataframe tbody tr th {\n",
       "        vertical-align: top;\n",
       "    }\n",
       "\n",
       "    .dataframe thead th {\n",
       "        text-align: right;\n",
       "    }\n",
       "</style>\n",
       "<table border=\"1\" class=\"dataframe\">\n",
       "  <thead>\n",
       "    <tr style=\"text-align: right;\">\n",
       "      <th></th>\n",
       "      <th>Survived</th>\n",
       "    </tr>\n",
       "  </thead>\n",
       "  <tbody>\n",
       "    <tr>\n",
       "      <th>0</th>\n",
       "      <td>1</td>\n",
       "    </tr>\n",
       "    <tr>\n",
       "      <th>1</th>\n",
       "      <td>0</td>\n",
       "    </tr>\n",
       "    <tr>\n",
       "      <th>2</th>\n",
       "      <td>1</td>\n",
       "    </tr>\n",
       "    <tr>\n",
       "      <th>3</th>\n",
       "      <td>0</td>\n",
       "    </tr>\n",
       "    <tr>\n",
       "      <th>4</th>\n",
       "      <td>1</td>\n",
       "    </tr>\n",
       "  </tbody>\n",
       "</table>\n",
       "</div>"
      ],
      "text/plain": [
       "   Survived\n",
       "0         1\n",
       "1         0\n",
       "2         1\n",
       "3         0\n",
       "4         1"
      ]
     },
     "execution_count": 20,
     "metadata": {},
     "output_type": "execute_result"
    }
   ],
   "source": [
    "y_train.head()"
   ]
  },
  {
   "cell_type": "code",
   "execution_count": 22,
   "id": "fbce1009-ad54-4b3e-899d-1686b9ea638b",
   "metadata": {},
   "outputs": [
    {
     "ename": "SyntaxError",
     "evalue": "incomplete input (1607446842.py, line 2)",
     "output_type": "error",
     "traceback": [
      "\u001b[1;36m  Cell \u001b[1;32mIn[22], line 2\u001b[1;36m\u001b[0m\n\u001b[1;33m    def print_results(result):\u001b[0m\n\u001b[1;37m                              ^\u001b[0m\n\u001b[1;31mSyntaxError\u001b[0m\u001b[1;31m:\u001b[0m incomplete input\n"
     ]
    }
   ],
   "source": [
    "# Function for printing the results\n",
    "def print_results(results):\n",
    "    print('BEST PARAMS: {}\\n'.format(results.best_params_))\n",
    "    means = results.cv_results_['mean_test_score']\n",
    "    stds = results.cv_results_['std_test_score]\n",
    "    for mean,std, params in zip(means, stds, results.cv_results_['params']):\n",
    "        print('{} (+/-{}) for {}'.format(rou"
   ]
  },
  {
   "cell_type": "code",
   "execution_count": null,
   "id": "2a5d3391-32f1-4af5-8a25-66a974f46bab",
   "metadata": {},
   "outputs": [],
   "source": []
  }
 ],
 "metadata": {
  "kernelspec": {
   "display_name": "Python 3 (ipykernel)",
   "language": "python",
   "name": "python3"
  },
  "language_info": {
   "codemirror_mode": {
    "name": "ipython",
    "version": 3
   },
   "file_extension": ".py",
   "mimetype": "text/x-python",
   "name": "python",
   "nbconvert_exporter": "python",
   "pygments_lexer": "ipython3",
   "version": "3.12.4"
  }
 },
 "nbformat": 4,
 "nbformat_minor": 5
}
