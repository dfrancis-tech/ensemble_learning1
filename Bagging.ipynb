{
 "cells": [
  {
   "cell_type": "markdown",
   "id": "f215d74a-0e9e-4118-aa51-141d05065cb3",
   "metadata": {},
   "source": [
    "# Bagging\n",
    "Bagging (short for bootstrap aggregating) is an ensemble method that combines multiple independent weak models, often deep decision trees, to create a stronger overall model.It falls under ensemble learning, similar to boosting, and is based on aggregating predictions from multiple models trained in parallel.\n",
    "- **Comparison with Boosting**:\n",
    "Bagging uses low-bias, high-variance models (e.g., deep trees). Boosting uses high-bias, low-variance models (e.g., shallow trees).\n",
    "In bagging, models are trained independently and in parallel, making it faster.\n",
    "In boosting, models are trained sequentially, where each model corrects errors from previous models, making it slower.\n",
    "- **Bootstrap Aggregation**:\n",
    "Bootstrap means sampling with replacement, so data points can appear in multiple samples.\n",
    "Each sample of training data generates a deep decision tree independently, targeting different relationships in the data.\n",
    "- **Prediction Process**:\n",
    "During testing, each tree makes a prediction based on the test example.\n",
    "The model aggregates predictions (e.g., via voting) from all trees to make the final prediction, improving accuracy through diversity in the independent predictions.\n",
    "- **Advantages**:\n",
    "Parallel Training: Faster due to independent training of each tree.\n",
    "Effective for High Variance: Reduces variance by combining predictions from deep, high-variance trees.\n",
    "Good for Uncorrelated Trees: Each tree’s independence helps capture unique data relationships, leading to better final predictions.\n",
    "In short, bagging offers a reliable method for improving accuracy and robustness in models by aggregating predictions from independent, deep decision trees.\n",
    "- **When to Use Bagging**:\n",
    "Suitable for problems with categorical or continuous target variables.\n",
    "Provides feature importance, helping to understand feature relationships with the target variable.\n",
    "Flexible and fast to train; performs well on most problems, making it a good initial benchmark model.\n",
    "Ideal for messy data (e.g., missing values, outliers, skewed data) due to its robustness.\n",
    "- **When Not to Use Bagging**:\n",
    "Interpretability: Difficult to understand the combined effect across hundreds of decision trees.\n",
    "Not Always Optimal: Might not capture the full signal in the data, so if 100% accuracy is required, consider other more powerful algorithms.\n",
    "Slower Prediction Time: While parallelizable in training, bagging models can be slower in making predictions due to the deeper trees.\n",
    "\n",
    "- **Random Forest**: Random Forest is an ensemble method that builds multiple independent decision trees using the bagging technique, enhancing prediction accuracy and stability.\n",
    "  \n",
    "    - Parallelization: Independent trees allow for parallel training, making Random Forest faster than boosting methods, where trees are dependent.\n",
    "    - Reduced Correlation: Ensures trees represent unique sections of data, avoiding redundancy and reducing model variance.\n",
    "    - Applicability:\n",
    "        * Useful for both regression and classification problems.\n",
    "        * For regression: Averages outputs from each tree.\n",
    "        * For classification: Uses voting across all trees for the final output.\n",
    "    - Bagging with a Twist:\n",
    "        * Standard Bagging: Uses training data samples with replacement to build each tree.\n",
    "        * Random Forest Wrinkle: Samples both data examples and features for each tree, ensuring each tree learns different patterns in subsets of data and features.\n",
    "        * Results in high variance models with uncorrelated trees.\n",
    "    - Benefits:\n",
    "        * Flexibility & Robustness: Performs well on messy data with mixed data types.\n",
    "        * Efficiency: Trains quickly with low risk of overfitting, making it a widely-used algorithm for machine learning practitioners."
   ]
  },
  {
   "cell_type": "code",
   "execution_count": 8,
   "id": "d2d12519-8463-4bc5-865c-7d13cc82a486",
   "metadata": {},
   "outputs": [],
   "source": [
    "# import relevant libraries\n",
    "import joblib\n",
    "import pandas as pd\n",
    "from sklearn.ensemble import RandomForestClassifier\n",
    "from sklearn.model_selection import GridSearchCV"
   ]
  },
  {
   "cell_type": "code",
   "execution_count": 10,
   "id": "4e80e20f-e6bb-407b-a0b0-76d40940d2ad",
   "metadata": {},
   "outputs": [
    {
     "data": {
      "text/plain": [
       "{'bootstrap': True,\n",
       " 'ccp_alpha': 0.0,\n",
       " 'class_weight': None,\n",
       " 'criterion': 'gini',\n",
       " 'max_depth': None,\n",
       " 'max_features': 'sqrt',\n",
       " 'max_leaf_nodes': None,\n",
       " 'max_samples': None,\n",
       " 'min_impurity_decrease': 0.0,\n",
       " 'min_samples_leaf': 1,\n",
       " 'min_samples_split': 2,\n",
       " 'min_weight_fraction_leaf': 0.0,\n",
       " 'monotonic_cst': None,\n",
       " 'n_estimators': 100,\n",
       " 'n_jobs': None,\n",
       " 'oob_score': False,\n",
       " 'random_state': None,\n",
       " 'verbose': 0,\n",
       " 'warm_start': False}"
      ]
     },
     "execution_count": 10,
     "metadata": {},
     "output_type": "execute_result"
    }
   ],
   "source": [
    "# Check the hyper parameters\n",
    "RandomForestClassifier().get_params()"
   ]
  },
  {
   "cell_type": "code",
   "execution_count": 12,
   "id": "f5823710-f4e1-4ef7-bf17-2fb831e85b66",
   "metadata": {},
   "outputs": [
    {
     "data": {
      "text/html": [
       "<div>\n",
       "<style scoped>\n",
       "    .dataframe tbody tr th:only-of-type {\n",
       "        vertical-align: middle;\n",
       "    }\n",
       "\n",
       "    .dataframe tbody tr th {\n",
       "        vertical-align: top;\n",
       "    }\n",
       "\n",
       "    .dataframe thead th {\n",
       "        text-align: right;\n",
       "    }\n",
       "</style>\n",
       "<table border=\"1\" class=\"dataframe\">\n",
       "  <thead>\n",
       "    <tr style=\"text-align: right;\">\n",
       "      <th></th>\n",
       "      <th>Unnamed: 0</th>\n",
       "      <th>Pclass</th>\n",
       "      <th>Sex</th>\n",
       "      <th>Age</th>\n",
       "      <th>Fare</th>\n",
       "      <th>Family_cnt</th>\n",
       "      <th>Cabin_ind</th>\n",
       "    </tr>\n",
       "  </thead>\n",
       "  <tbody>\n",
       "    <tr>\n",
       "      <th>0</th>\n",
       "      <td>570</td>\n",
       "      <td>2</td>\n",
       "      <td>0</td>\n",
       "      <td>62.0</td>\n",
       "      <td>10.5000</td>\n",
       "      <td>0</td>\n",
       "      <td>0</td>\n",
       "    </tr>\n",
       "    <tr>\n",
       "      <th>1</th>\n",
       "      <td>787</td>\n",
       "      <td>3</td>\n",
       "      <td>0</td>\n",
       "      <td>8.0</td>\n",
       "      <td>29.1250</td>\n",
       "      <td>5</td>\n",
       "      <td>0</td>\n",
       "    </tr>\n",
       "    <tr>\n",
       "      <th>2</th>\n",
       "      <td>74</td>\n",
       "      <td>3</td>\n",
       "      <td>0</td>\n",
       "      <td>32.0</td>\n",
       "      <td>56.4958</td>\n",
       "      <td>0</td>\n",
       "      <td>0</td>\n",
       "    </tr>\n",
       "    <tr>\n",
       "      <th>3</th>\n",
       "      <td>113</td>\n",
       "      <td>3</td>\n",
       "      <td>1</td>\n",
       "      <td>20.0</td>\n",
       "      <td>9.8250</td>\n",
       "      <td>1</td>\n",
       "      <td>0</td>\n",
       "    </tr>\n",
       "    <tr>\n",
       "      <th>4</th>\n",
       "      <td>635</td>\n",
       "      <td>2</td>\n",
       "      <td>1</td>\n",
       "      <td>28.0</td>\n",
       "      <td>13.0000</td>\n",
       "      <td>0</td>\n",
       "      <td>0</td>\n",
       "    </tr>\n",
       "  </tbody>\n",
       "</table>\n",
       "</div>"
      ],
      "text/plain": [
       "   Unnamed: 0  Pclass  Sex   Age     Fare  Family_cnt  Cabin_ind\n",
       "0         570       2    0  62.0  10.5000           0          0\n",
       "1         787       3    0   8.0  29.1250           5          0\n",
       "2          74       3    0  32.0  56.4958           0          0\n",
       "3         113       3    1  20.0   9.8250           1          0\n",
       "4         635       2    1  28.0  13.0000           0          0"
      ]
     },
     "execution_count": 12,
     "metadata": {},
     "output_type": "execute_result"
    }
   ],
   "source": [
    "# Read data\n",
    "X_train = pd.read_csv('./data/train_features.csv')\n",
    "y_train = pd.read_csv('./data/train_labels.csv')\n",
    "X_train.head()"
   ]
  },
  {
   "cell_type": "code",
   "execution_count": 14,
   "id": "c7fe604f-8982-4595-9713-40c1dc002992",
   "metadata": {},
   "outputs": [
    {
     "data": {
      "text/html": [
       "<div>\n",
       "<style scoped>\n",
       "    .dataframe tbody tr th:only-of-type {\n",
       "        vertical-align: middle;\n",
       "    }\n",
       "\n",
       "    .dataframe tbody tr th {\n",
       "        vertical-align: top;\n",
       "    }\n",
       "\n",
       "    .dataframe thead th {\n",
       "        text-align: right;\n",
       "    }\n",
       "</style>\n",
       "<table border=\"1\" class=\"dataframe\">\n",
       "  <thead>\n",
       "    <tr style=\"text-align: right;\">\n",
       "      <th></th>\n",
       "      <th>Survived</th>\n",
       "    </tr>\n",
       "  </thead>\n",
       "  <tbody>\n",
       "    <tr>\n",
       "      <th>0</th>\n",
       "      <td>1</td>\n",
       "    </tr>\n",
       "    <tr>\n",
       "      <th>1</th>\n",
       "      <td>0</td>\n",
       "    </tr>\n",
       "    <tr>\n",
       "      <th>2</th>\n",
       "      <td>1</td>\n",
       "    </tr>\n",
       "    <tr>\n",
       "      <th>3</th>\n",
       "      <td>0</td>\n",
       "    </tr>\n",
       "    <tr>\n",
       "      <th>4</th>\n",
       "      <td>1</td>\n",
       "    </tr>\n",
       "  </tbody>\n",
       "</table>\n",
       "</div>"
      ],
      "text/plain": [
       "   Survived\n",
       "0         1\n",
       "1         0\n",
       "2         1\n",
       "3         0\n",
       "4         1"
      ]
     },
     "execution_count": 14,
     "metadata": {},
     "output_type": "execute_result"
    }
   ],
   "source": [
    "y_train.head()"
   ]
  },
  {
   "cell_type": "code",
   "execution_count": null,
   "id": "2bd9e07b-b66a-4bae-bdab-8837a78f34c1",
   "metadata": {},
   "outputs": [],
   "source": [
    "# Create helper function for printing the results\n",
    "def print_results(results):\n",
    "    print('BEST PARAMS: {}\\n'.format(results.best_params_))\n",
    "\n",
    "    means = results.cv_results_['mean_test-score']\n",
    "    stds = results.cv_results_['std_test_score']\n",
    "    for mean, std, params in zip(means, std\n"
   ]
  }
 ],
 "metadata": {
  "kernelspec": {
   "display_name": "Python 3 (ipykernel)",
   "language": "python",
   "name": "python3"
  },
  "language_info": {
   "codemirror_mode": {
    "name": "ipython",
    "version": 3
   },
   "file_extension": ".py",
   "mimetype": "text/x-python",
   "name": "python",
   "nbconvert_exporter": "python",
   "pygments_lexer": "ipython3",
   "version": "3.12.4"
  }
 },
 "nbformat": 4,
 "nbformat_minor": 5
}
