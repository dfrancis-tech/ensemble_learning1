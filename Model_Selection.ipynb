{
 "cells": [
  {
   "cell_type": "markdown",
   "id": "560b7620-0175-4678-a430-d3b484069219",
   "metadata": {},
   "source": [
    "# Compare model results and final model Selection\n",
    "\n",
    "In this section, we will do the following:\n",
    "1. Evaluate all the saved models on the validation set.\n",
    "2. Select the best model based on performance on the validation set.\n",
    "3. Evaluate the best model on the holdout test set."
   ]
  },
  {
   "cell_type": "code",
   "execution_count": 65,
   "id": "ca8b3556-abe3-4af3-a28d-a3d4c185f8e3",
   "metadata": {},
   "outputs": [],
   "source": [
    "# Import the relevant packages\n",
    "import joblib\n",
    "import pandas as pd\n",
    "from sklearn.metrics import accuracy_score, precision_score, recall_score\n",
    "from time import time"
   ]
  },
  {
   "cell_type": "code",
   "execution_count": 134,
   "id": "c0467fc9-67d7-4b68-bdd2-afa5454d388f",
   "metadata": {},
   "outputs": [],
   "source": [
    "# Read the validation and test data\n",
    "X_val = pd.read_csv('./data/val_features.csv')\n",
    "y_val = pd.read_csv('./data/val_labels.csv')\n",
    "\n",
    "X_test = pd.read_csv('./data/test_features.csv')\n",
    "y_test = pd.read_csv('./data/test_labels.csv')"
   ]
  },
  {
   "cell_type": "code",
   "execution_count": 136,
   "id": "bb52dce5-a1b8-46fd-84c1-e67f0198f2ba",
   "metadata": {},
   "outputs": [
    {
     "data": {
      "text/html": [
       "<div>\n",
       "<style scoped>\n",
       "    .dataframe tbody tr th:only-of-type {\n",
       "        vertical-align: middle;\n",
       "    }\n",
       "\n",
       "    .dataframe tbody tr th {\n",
       "        vertical-align: top;\n",
       "    }\n",
       "\n",
       "    .dataframe thead th {\n",
       "        text-align: right;\n",
       "    }\n",
       "</style>\n",
       "<table border=\"1\" class=\"dataframe\">\n",
       "  <thead>\n",
       "    <tr style=\"text-align: right;\">\n",
       "      <th></th>\n",
       "      <th>Unnamed: 0</th>\n",
       "      <th>Pclass</th>\n",
       "      <th>Sex</th>\n",
       "      <th>Age</th>\n",
       "      <th>Fare</th>\n",
       "      <th>Family_cnt</th>\n",
       "      <th>Cabin_ind</th>\n",
       "    </tr>\n",
       "  </thead>\n",
       "  <tbody>\n",
       "    <tr>\n",
       "      <th>0</th>\n",
       "      <td>849</td>\n",
       "      <td>1</td>\n",
       "      <td>1</td>\n",
       "      <td>29.699118</td>\n",
       "      <td>89.1042</td>\n",
       "      <td>1</td>\n",
       "      <td>1</td>\n",
       "    </tr>\n",
       "    <tr>\n",
       "      <th>1</th>\n",
       "      <td>331</td>\n",
       "      <td>1</td>\n",
       "      <td>0</td>\n",
       "      <td>45.500000</td>\n",
       "      <td>28.5000</td>\n",
       "      <td>0</td>\n",
       "      <td>1</td>\n",
       "    </tr>\n",
       "    <tr>\n",
       "      <th>2</th>\n",
       "      <td>260</td>\n",
       "      <td>3</td>\n",
       "      <td>0</td>\n",
       "      <td>29.699118</td>\n",
       "      <td>7.7500</td>\n",
       "      <td>0</td>\n",
       "      <td>0</td>\n",
       "    </tr>\n",
       "    <tr>\n",
       "      <th>3</th>\n",
       "      <td>316</td>\n",
       "      <td>2</td>\n",
       "      <td>1</td>\n",
       "      <td>24.000000</td>\n",
       "      <td>26.0000</td>\n",
       "      <td>1</td>\n",
       "      <td>0</td>\n",
       "    </tr>\n",
       "    <tr>\n",
       "      <th>4</th>\n",
       "      <td>292</td>\n",
       "      <td>2</td>\n",
       "      <td>0</td>\n",
       "      <td>36.000000</td>\n",
       "      <td>12.8750</td>\n",
       "      <td>0</td>\n",
       "      <td>1</td>\n",
       "    </tr>\n",
       "  </tbody>\n",
       "</table>\n",
       "</div>"
      ],
      "text/plain": [
       "   Unnamed: 0  Pclass  Sex        Age     Fare  Family_cnt  Cabin_ind\n",
       "0         849       1    1  29.699118  89.1042           1          1\n",
       "1         331       1    0  45.500000  28.5000           0          1\n",
       "2         260       3    0  29.699118   7.7500           0          0\n",
       "3         316       2    1  24.000000  26.0000           1          0\n",
       "4         292       2    0  36.000000  12.8750           0          1"
      ]
     },
     "execution_count": 136,
     "metadata": {},
     "output_type": "execute_result"
    }
   ],
   "source": [
    "X_val.head()"
   ]
  },
  {
   "cell_type": "code",
   "execution_count": 138,
   "id": "78953951-f813-4eae-8b3f-eff7d946a2bd",
   "metadata": {},
   "outputs": [
    {
     "data": {
      "text/html": [
       "<div>\n",
       "<style scoped>\n",
       "    .dataframe tbody tr th:only-of-type {\n",
       "        vertical-align: middle;\n",
       "    }\n",
       "\n",
       "    .dataframe tbody tr th {\n",
       "        vertical-align: top;\n",
       "    }\n",
       "\n",
       "    .dataframe thead th {\n",
       "        text-align: right;\n",
       "    }\n",
       "</style>\n",
       "<table border=\"1\" class=\"dataframe\">\n",
       "  <thead>\n",
       "    <tr style=\"text-align: right;\">\n",
       "      <th></th>\n",
       "      <th>Survived</th>\n",
       "    </tr>\n",
       "  </thead>\n",
       "  <tbody>\n",
       "    <tr>\n",
       "      <th>0</th>\n",
       "      <td>1</td>\n",
       "    </tr>\n",
       "    <tr>\n",
       "      <th>1</th>\n",
       "      <td>0</td>\n",
       "    </tr>\n",
       "    <tr>\n",
       "      <th>2</th>\n",
       "      <td>0</td>\n",
       "    </tr>\n",
       "    <tr>\n",
       "      <th>3</th>\n",
       "      <td>1</td>\n",
       "    </tr>\n",
       "    <tr>\n",
       "      <th>4</th>\n",
       "      <td>0</td>\n",
       "    </tr>\n",
       "  </tbody>\n",
       "</table>\n",
       "</div>"
      ],
      "text/plain": [
       "   Survived\n",
       "0         1\n",
       "1         0\n",
       "2         0\n",
       "3         1\n",
       "4         0"
      ]
     },
     "execution_count": 138,
     "metadata": {},
     "output_type": "execute_result"
    }
   ],
   "source": [
    "y_val.head()"
   ]
  },
  {
   "cell_type": "code",
   "execution_count": 140,
   "id": "8faa318b-e368-4373-a15f-49f64f49bba1",
   "metadata": {},
   "outputs": [
    {
     "data": {
      "text/html": [
       "<div>\n",
       "<style scoped>\n",
       "    .dataframe tbody tr th:only-of-type {\n",
       "        vertical-align: middle;\n",
       "    }\n",
       "\n",
       "    .dataframe tbody tr th {\n",
       "        vertical-align: top;\n",
       "    }\n",
       "\n",
       "    .dataframe thead th {\n",
       "        text-align: right;\n",
       "    }\n",
       "</style>\n",
       "<table border=\"1\" class=\"dataframe\">\n",
       "  <thead>\n",
       "    <tr style=\"text-align: right;\">\n",
       "      <th></th>\n",
       "      <th>Unnamed: 0</th>\n",
       "      <th>Pclass</th>\n",
       "      <th>Sex</th>\n",
       "      <th>Age</th>\n",
       "      <th>Fare</th>\n",
       "      <th>Family_cnt</th>\n",
       "      <th>Cabin_ind</th>\n",
       "    </tr>\n",
       "  </thead>\n",
       "  <tbody>\n",
       "    <tr>\n",
       "      <th>0</th>\n",
       "      <td>424</td>\n",
       "      <td>3</td>\n",
       "      <td>0</td>\n",
       "      <td>18.000000</td>\n",
       "      <td>20.2125</td>\n",
       "      <td>2</td>\n",
       "      <td>0</td>\n",
       "    </tr>\n",
       "    <tr>\n",
       "      <th>1</th>\n",
       "      <td>837</td>\n",
       "      <td>3</td>\n",
       "      <td>0</td>\n",
       "      <td>29.699118</td>\n",
       "      <td>8.0500</td>\n",
       "      <td>0</td>\n",
       "      <td>0</td>\n",
       "    </tr>\n",
       "    <tr>\n",
       "      <th>2</th>\n",
       "      <td>525</td>\n",
       "      <td>3</td>\n",
       "      <td>0</td>\n",
       "      <td>40.500000</td>\n",
       "      <td>7.7500</td>\n",
       "      <td>0</td>\n",
       "      <td>0</td>\n",
       "    </tr>\n",
       "    <tr>\n",
       "      <th>3</th>\n",
       "      <td>328</td>\n",
       "      <td>3</td>\n",
       "      <td>1</td>\n",
       "      <td>31.000000</td>\n",
       "      <td>20.5250</td>\n",
       "      <td>2</td>\n",
       "      <td>0</td>\n",
       "    </tr>\n",
       "    <tr>\n",
       "      <th>4</th>\n",
       "      <td>70</td>\n",
       "      <td>2</td>\n",
       "      <td>0</td>\n",
       "      <td>32.000000</td>\n",
       "      <td>10.5000</td>\n",
       "      <td>0</td>\n",
       "      <td>0</td>\n",
       "    </tr>\n",
       "  </tbody>\n",
       "</table>\n",
       "</div>"
      ],
      "text/plain": [
       "   Unnamed: 0  Pclass  Sex        Age     Fare  Family_cnt  Cabin_ind\n",
       "0         424       3    0  18.000000  20.2125           2          0\n",
       "1         837       3    0  29.699118   8.0500           0          0\n",
       "2         525       3    0  40.500000   7.7500           0          0\n",
       "3         328       3    1  31.000000  20.5250           2          0\n",
       "4          70       2    0  32.000000  10.5000           0          0"
      ]
     },
     "execution_count": 140,
     "metadata": {},
     "output_type": "execute_result"
    }
   ],
   "source": [
    "X_test.head()"
   ]
  },
  {
   "cell_type": "code",
   "execution_count": 142,
   "id": "3c1a64cd-bc0b-47b0-9dc7-2ad9c738866d",
   "metadata": {},
   "outputs": [
    {
     "data": {
      "text/html": [
       "<div>\n",
       "<style scoped>\n",
       "    .dataframe tbody tr th:only-of-type {\n",
       "        vertical-align: middle;\n",
       "    }\n",
       "\n",
       "    .dataframe tbody tr th {\n",
       "        vertical-align: top;\n",
       "    }\n",
       "\n",
       "    .dataframe thead th {\n",
       "        text-align: right;\n",
       "    }\n",
       "</style>\n",
       "<table border=\"1\" class=\"dataframe\">\n",
       "  <thead>\n",
       "    <tr style=\"text-align: right;\">\n",
       "      <th></th>\n",
       "      <th>Survived</th>\n",
       "    </tr>\n",
       "  </thead>\n",
       "  <tbody>\n",
       "    <tr>\n",
       "      <th>0</th>\n",
       "      <td>0</td>\n",
       "    </tr>\n",
       "    <tr>\n",
       "      <th>1</th>\n",
       "      <td>0</td>\n",
       "    </tr>\n",
       "    <tr>\n",
       "      <th>2</th>\n",
       "      <td>0</td>\n",
       "    </tr>\n",
       "    <tr>\n",
       "      <th>3</th>\n",
       "      <td>1</td>\n",
       "    </tr>\n",
       "    <tr>\n",
       "      <th>4</th>\n",
       "      <td>0</td>\n",
       "    </tr>\n",
       "  </tbody>\n",
       "</table>\n",
       "</div>"
      ],
      "text/plain": [
       "   Survived\n",
       "0         0\n",
       "1         0\n",
       "2         0\n",
       "3         1\n",
       "4         0"
      ]
     },
     "execution_count": 142,
     "metadata": {},
     "output_type": "execute_result"
    }
   ],
   "source": [
    "y_test.head()"
   ]
  },
  {
   "cell_type": "code",
   "execution_count": 155,
   "id": "bd136d62-da65-43ac-9026-c92c853740bf",
   "metadata": {},
   "outputs": [],
   "source": [
    "# Read the saved best models\n",
    "gb_mdl = joblib.load('./data/models/GB_model.pkl')\n",
    "rf_mdl = joblib.load('./data/models/RF_model.pkl')\n",
    "stacked_mdl = joblib.load('./data/models/stacked_model.pkl')"
   ]
  },
  {
   "cell_type": "code",
   "execution_count": 157,
   "id": "dfb36197-8fa3-41bb-aae8-4cb70919c539",
   "metadata": {},
   "outputs": [],
   "source": [
    "# Create helper function for evaluating model\n",
    "def evaluate_model(model, features, labels):\n",
    "    start = time()\n",
    "    pred = model.predict(features)\n",
    "    end = time()\n",
    "    accuracy = round(accuracy_score(labels, pred), 3)\n",
    "    precision = round(precision_score(labels, pred), 3)\n",
    "    recall = round(recall_score(labels, pred), 3)\n",
    "    print('{} -- Accuracy: {} / Precision: {} / Recall: {} / Latency: {}ms'.format(str(model).split('(')[0],\n",
    "                                                                                   accuracy,\n",
    "                                                                                   precision,\n",
    "                                                                                   recall,\n",
    "                                                                                   round((end - start)*1000, 1)))"
   ]
  },
  {
   "cell_type": "markdown",
   "id": "52a61d38-0b0b-4cc4-82c0-33f24249ea37",
   "metadata": {},
   "source": [
    "**Evaluate best models on Validation set**"
   ]
  },
  {
   "cell_type": "code",
   "execution_count": 160,
   "id": "bfa17930-e481-4be9-83c5-327fe477c3bd",
   "metadata": {},
   "outputs": [
    {
     "name": "stdout",
     "output_type": "stream",
     "text": [
      "GradientBoostingClassifier -- Accuracy: 0.809 / Precision: 0.804 / Recall: 0.631 / Latency: 3.0ms\n",
      "RandomForestClassifier -- Accuracy: 0.798 / Precision: 0.784 / Recall: 0.615 / Latency: 3.9ms\n",
      "StackingClassifier -- Accuracy: 0.809 / Precision: 0.792 / Recall: 0.646 / Latency: 8.0ms\n"
     ]
    }
   ],
   "source": [
    "# Create a loop for evaluate the models on Validation set\n",
    "for mdl in [gb_mdl, rf_mdl, stacked_mdl]:\n",
    "    evaluate_model(mdl, X_val, y_val)"
   ]
  },
  {
   "cell_type": "markdown",
   "id": "d2f4cdf4-2d2f-4b0e-8e16-db8325a92234",
   "metadata": {},
   "source": []
  },
  {
   "cell_type": "markdown",
   "id": "b192c2a4-e5fa-4c13-b7f0-efa489e1f0f2",
   "metadata": {},
   "source": [
    "Considerations for Model Selection\n",
    "* Accuracy:\n",
    "GradientBoostingClassifier and StackingClassifier both have an accuracy of 0.809, which is slightly better than the RandomForestClassifier with an accuracy of 0.798.\n",
    "However, accuracy is not the only metric to rely on, especially in imbalanced datasets like Titanic survival, where the cost of false negatives (missed survivors) may be more important than overall accuracy.\n",
    "* Precision:\n",
    "GradientBoostingClassifier has the highest precision (0.804), followed by StackingClassifier (0.792) and RandomForestClassifier (0.784).\n",
    "Precision measures how many of the predicted survivors (positive class) are actually survivors. A higher precision is desirable when false positives (predicting a non-survivor as a survivor) are costly.\n",
    "* Recall:\n",
    "StackingClassifier has the highest recall (0.646), which means it is better at identifying actual survivors (true positives).\n",
    "Recall is important in scenarios where it's critical to capture as many true survivors as possible, even if it means accepting a higher number of false positives. In this case, StackingClassifier is better than the other models in identifying more survivors.\n",
    "* Latency:\n",
    "GradientBoostingClassifier has the lowest latency (3.0ms), followed by RandomForestClassifier (3.9ms), and StackingClassifier has the highest latency (8.0ms).\n",
    "While latency is a concern for real-time applications or large datasets, it's less important in the context of the Titanic dataset, where the primary focus is on predictive accuracy.\n",
    "* Conclusion\n",
    "If the primary goal is to minimize false positives (e.g., minimizing the number of passengers incorrectly predicted as survivors), GradientBoostingClassifier would be the best choice due to its higher precision and competitive accuracy.\n",
    "\n",
    "If the goal is to capture as many survivors as possible, even at the cost of some false positives, StackingClassifier is the best choice due to its higher recall (0.646).\n",
    "\n",
    "In terms of overall accuracy and precision, GradientBoostingClassifier slightly edges out the other models, but StackingClassifier offers a better recall, making it a good choice if identifying survivors is more important than minimizing false positives.\n",
    "\n",
    "Best Model (Overall): GradientBoostingClassifier, due to its strong accuracy and precision."
   ]
  },
  {
   "cell_type": "markdown",
   "id": "af23cf07-5500-4de9-b721-77b13d7d29fd",
   "metadata": {},
   "source": [
    "**Evaluate best models on Test set**"
   ]
  },
  {
   "cell_type": "code",
   "execution_count": 165,
   "id": "9bf4fda8-8960-4507-8093-622b48ea14b8",
   "metadata": {},
   "outputs": [
    {
     "name": "stdout",
     "output_type": "stream",
     "text": [
      "GradientBoostingClassifier -- Accuracy: 0.799 / Precision: 0.845 / Recall: 0.645 / Latency: 3.0ms\n"
     ]
    }
   ],
   "source": [
    "evaluate_model(gb_mdl,X_test, y_test)"
   ]
  },
  {
   "cell_type": "markdown",
   "id": "ab84a449-643b-467b-a4bf-b2a983917c88",
   "metadata": {},
   "source": [
    "The above model is chosen as the best for making predictons on whether people abroard the Titanic will survive or not."
   ]
  },
  {
   "cell_type": "code",
   "execution_count": null,
   "id": "ba50ca45-5080-4e97-899f-ac95e669dba0",
   "metadata": {},
   "outputs": [],
   "source": []
  }
 ],
 "metadata": {
  "kernelspec": {
   "display_name": "Python 3 (ipykernel)",
   "language": "python",
   "name": "python3"
  },
  "language_info": {
   "codemirror_mode": {
    "name": "ipython",
    "version": 3
   },
   "file_extension": ".py",
   "mimetype": "text/x-python",
   "name": "python",
   "nbconvert_exporter": "python",
   "pygments_lexer": "ipython3",
   "version": "3.12.4"
  }
 },
 "nbformat": 4,
 "nbformat_minor": 5
}
